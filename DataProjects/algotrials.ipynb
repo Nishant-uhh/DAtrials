{
 "cells": [
  {
   "cell_type": "code",
   "execution_count": 1,
   "id": "fd336d15",
   "metadata": {},
   "outputs": [
    {
     "name": "stdout",
     "output_type": "stream",
     "text": [
      "Requirement already satisfied: pandas-datareader in c:\\users\\nii\\anaconda3\\lib\\site-packages (0.10.0)\n",
      "Requirement already satisfied: pandas>=0.23 in c:\\users\\nii\\anaconda3\\lib\\site-packages (from pandas-datareader) (1.3.4)\n",
      "Requirement already satisfied: lxml in c:\\users\\nii\\anaconda3\\lib\\site-packages (from pandas-datareader) (4.6.3)\n",
      "Requirement already satisfied: requests>=2.19.0 in c:\\users\\nii\\anaconda3\\lib\\site-packages (from pandas-datareader) (2.26.0)\n",
      "Requirement already satisfied: python-dateutil>=2.7.3 in c:\\users\\nii\\anaconda3\\lib\\site-packages (from pandas>=0.23->pandas-datareader) (2.8.2)\n",
      "Requirement already satisfied: pytz>=2017.3 in c:\\users\\nii\\anaconda3\\lib\\site-packages (from pandas>=0.23->pandas-datareader) (2021.3)\n",
      "Requirement already satisfied: numpy>=1.17.3 in c:\\users\\nii\\anaconda3\\lib\\site-packages (from pandas>=0.23->pandas-datareader) (1.20.3)\n",
      "Requirement already satisfied: six>=1.5 in c:\\users\\nii\\anaconda3\\lib\\site-packages (from python-dateutil>=2.7.3->pandas>=0.23->pandas-datareader) (1.16.0)\n",
      "Requirement already satisfied: idna<4,>=2.5 in c:\\users\\nii\\anaconda3\\lib\\site-packages (from requests>=2.19.0->pandas-datareader) (3.2)\n",
      "Requirement already satisfied: certifi>=2017.4.17 in c:\\users\\nii\\anaconda3\\lib\\site-packages (from requests>=2.19.0->pandas-datareader) (2021.10.8)\n",
      "Requirement already satisfied: charset-normalizer~=2.0.0 in c:\\users\\nii\\anaconda3\\lib\\site-packages (from requests>=2.19.0->pandas-datareader) (2.0.4)\n",
      "Requirement already satisfied: urllib3<1.27,>=1.21.1 in c:\\users\\nii\\anaconda3\\lib\\site-packages (from requests>=2.19.0->pandas-datareader) (1.26.7)\n",
      "Note: you may need to restart the kernel to use updated packages.\n"
     ]
    }
   ],
   "source": [
    "pip install pandas-datareader"
   ]
  },
  {
   "cell_type": "code",
   "execution_count": 13,
   "id": "3425363c",
   "metadata": {},
   "outputs": [],
   "source": [
    "import pandas as pd\n",
    "import pandas_datareader.data as web\n",
    "import datetime as dt"
   ]
  },
  {
   "cell_type": "code",
   "execution_count": 24,
   "id": "962bb809",
   "metadata": {},
   "outputs": [
    {
     "data": {
      "text/html": [
       "<div>\n",
       "<style scoped>\n",
       "    .dataframe tbody tr th:only-of-type {\n",
       "        vertical-align: middle;\n",
       "    }\n",
       "\n",
       "    .dataframe tbody tr th {\n",
       "        vertical-align: top;\n",
       "    }\n",
       "\n",
       "    .dataframe thead th {\n",
       "        text-align: right;\n",
       "    }\n",
       "</style>\n",
       "<table border=\"1\" class=\"dataframe\">\n",
       "  <thead>\n",
       "    <tr style=\"text-align: right;\">\n",
       "      <th></th>\n",
       "      <th>Open</th>\n",
       "      <th>High</th>\n",
       "      <th>Low</th>\n",
       "      <th>Close</th>\n",
       "      <th>Volume</th>\n",
       "    </tr>\n",
       "    <tr>\n",
       "      <th>Date</th>\n",
       "      <th></th>\n",
       "      <th></th>\n",
       "      <th></th>\n",
       "      <th></th>\n",
       "      <th></th>\n",
       "    </tr>\n",
       "  </thead>\n",
       "  <tbody>\n",
       "    <tr>\n",
       "      <th>2023-01-13</th>\n",
       "      <td>34075.31</td>\n",
       "      <td>34342.32</td>\n",
       "      <td>33915.49</td>\n",
       "      <td>34302.61</td>\n",
       "      <td>274262986.0</td>\n",
       "    </tr>\n",
       "    <tr>\n",
       "      <th>2023-01-12</th>\n",
       "      <td>34047.86</td>\n",
       "      <td>34292.67</td>\n",
       "      <td>33792.10</td>\n",
       "      <td>34189.97</td>\n",
       "      <td>308605840.0</td>\n",
       "    </tr>\n",
       "    <tr>\n",
       "      <th>2023-01-11</th>\n",
       "      <td>33754.03</td>\n",
       "      <td>33974.69</td>\n",
       "      <td>33711.04</td>\n",
       "      <td>33973.01</td>\n",
       "      <td>302297828.0</td>\n",
       "    </tr>\n",
       "    <tr>\n",
       "      <th>2023-01-10</th>\n",
       "      <td>33516.43</td>\n",
       "      <td>33726.54</td>\n",
       "      <td>33421.80</td>\n",
       "      <td>33704.10</td>\n",
       "      <td>269943626.0</td>\n",
       "    </tr>\n",
       "    <tr>\n",
       "      <th>2023-01-09</th>\n",
       "      <td>33664.39</td>\n",
       "      <td>33935.11</td>\n",
       "      <td>33487.66</td>\n",
       "      <td>33517.65</td>\n",
       "      <td>328602398.0</td>\n",
       "    </tr>\n",
       "    <tr>\n",
       "      <th>2023-01-06</th>\n",
       "      <td>33055.30</td>\n",
       "      <td>33710.66</td>\n",
       "      <td>32997.39</td>\n",
       "      <td>33630.61</td>\n",
       "      <td>365807019.0</td>\n",
       "    </tr>\n",
       "    <tr>\n",
       "      <th>2023-01-05</th>\n",
       "      <td>33191.72</td>\n",
       "      <td>33191.72</td>\n",
       "      <td>32812.33</td>\n",
       "      <td>32930.08</td>\n",
       "      <td>343028691.0</td>\n",
       "    </tr>\n",
       "    <tr>\n",
       "      <th>2023-01-04</th>\n",
       "      <td>33165.14</td>\n",
       "      <td>33409.10</td>\n",
       "      <td>33033.48</td>\n",
       "      <td>33269.77</td>\n",
       "      <td>385620372.0</td>\n",
       "    </tr>\n",
       "    <tr>\n",
       "      <th>2023-01-03</th>\n",
       "      <td>33148.90</td>\n",
       "      <td>33387.52</td>\n",
       "      <td>32850.57</td>\n",
       "      <td>33136.37</td>\n",
       "      <td>358951411.0</td>\n",
       "    </tr>\n",
       "    <tr>\n",
       "      <th>2022-12-30</th>\n",
       "      <td>33121.61</td>\n",
       "      <td>33152.55</td>\n",
       "      <td>32847.82</td>\n",
       "      <td>33147.25</td>\n",
       "      <td>296466276.0</td>\n",
       "    </tr>\n",
       "  </tbody>\n",
       "</table>\n",
       "</div>"
      ],
      "text/plain": [
       "                Open      High       Low     Close       Volume\n",
       "Date                                                           \n",
       "2023-01-13  34075.31  34342.32  33915.49  34302.61  274262986.0\n",
       "2023-01-12  34047.86  34292.67  33792.10  34189.97  308605840.0\n",
       "2023-01-11  33754.03  33974.69  33711.04  33973.01  302297828.0\n",
       "2023-01-10  33516.43  33726.54  33421.80  33704.10  269943626.0\n",
       "2023-01-09  33664.39  33935.11  33487.66  33517.65  328602398.0\n",
       "2023-01-06  33055.30  33710.66  32997.39  33630.61  365807019.0\n",
       "2023-01-05  33191.72  33191.72  32812.33  32930.08  343028691.0\n",
       "2023-01-04  33165.14  33409.10  33033.48  33269.77  385620372.0\n",
       "2023-01-03  33148.90  33387.52  32850.57  33136.37  358951411.0\n",
       "2022-12-30  33121.61  33152.55  32847.82  33147.25  296466276.0"
      ]
     },
     "execution_count": 24,
     "metadata": {},
     "output_type": "execute_result"
    }
   ],
   "source": [
    "f = web.DataReader('^DJI', 'stooq')\n",
    "f[:10]"
   ]
  },
  {
   "cell_type": "code",
   "execution_count": null,
   "id": "92a2e4ef",
   "metadata": {},
   "outputs": [],
   "source": []
  }
 ],
 "metadata": {
  "kernelspec": {
   "display_name": "base",
   "language": "python",
   "name": "python3"
  },
  "language_info": {
   "codemirror_mode": {
    "name": "ipython",
    "version": 3
   },
   "file_extension": ".py",
   "mimetype": "text/x-python",
   "name": "python",
   "nbconvert_exporter": "python",
   "pygments_lexer": "ipython3",
   "version": "3.9.7 (default, Sep 16 2021, 16:59:28) [MSC v.1916 64 bit (AMD64)]"
  },
  "vscode": {
   "interpreter": {
    "hash": "754349281282b39b72de50dda703632bca9df76bb7a60c336543479605202312"
   }
  }
 },
 "nbformat": 4,
 "nbformat_minor": 5
}
