{
 "cells": [
  {
   "cell_type": "code",
   "execution_count": 4,
   "id": "8a469e5e",
   "metadata": {},
   "outputs": [],
   "source": [
    "import yfinance"
   ]
  },
  {
   "cell_type": "code",
   "execution_count": 5,
   "id": "b9f00ae4",
   "metadata": {},
   "outputs": [],
   "source": [
    "import pandas as pd\n",
    "import numpy as np\n",
    "import matplotlib.pyplot as plt\n",
    "import seaborn as sns; sns.set()"
   ]
  },
  {
   "cell_type": "code",
   "execution_count": 6,
   "id": "6e210d03",
   "metadata": {},
   "outputs": [],
   "source": [
    "import yfinance as yf\n",
    "from datetime import date, timedelta"
   ]
  },
  {
   "cell_type": "code",
   "execution_count": 7,
   "id": "d68e1573",
   "metadata": {},
   "outputs": [
    {
     "data": {
      "text/plain": [
       "datetime.date(2023, 3, 3)"
      ]
     },
     "execution_count": 7,
     "metadata": {},
     "output_type": "execute_result"
    }
   ],
   "source": [
    "today = date.today()\n",
    "today"
   ]
  },
  {
   "cell_type": "code",
   "execution_count": 8,
   "id": "648a47a4",
   "metadata": {},
   "outputs": [
    {
     "data": {
      "text/plain": [
       "'2023-03-03'"
      ]
     },
     "execution_count": 8,
     "metadata": {},
     "output_type": "execute_result"
    }
   ],
   "source": [
    "end_date = today.strftime(\"%Y-%m-%d\")\n",
    "end_date"
   ]
  },
  {
   "cell_type": "code",
   "execution_count": 9,
   "id": "91e79092",
   "metadata": {},
   "outputs": [
    {
     "data": {
      "text/plain": [
       "datetime.date(2018, 3, 29)"
      ]
     },
     "execution_count": 9,
     "metadata": {},
     "output_type": "execute_result"
    }
   ],
   "source": [
    "d1 = date.today() - timedelta(days=360*5) #for last 5 years\n",
    "d1"
   ]
  },
  {
   "cell_type": "code",
   "execution_count": 10,
   "id": "977e9884",
   "metadata": {},
   "outputs": [
    {
     "data": {
      "text/plain": [
       "'2018-03-29'"
      ]
     },
     "execution_count": 10,
     "metadata": {},
     "output_type": "execute_result"
    }
   ],
   "source": [
    "start_date = d1.strftime(\"%Y-%m-%d\")\n",
    "start_date"
   ]
  },
  {
   "cell_type": "code",
   "execution_count": 11,
   "id": "b8a53d5f",
   "metadata": {},
   "outputs": [
    {
     "name": "stdout",
     "output_type": "stream",
     "text": [
      "[*********************100%***********************]  1 of 1 completed\n"
     ]
    },
    {
     "data": {
      "text/plain": [
       "(1240, 6)"
      ]
     },
     "execution_count": 11,
     "metadata": {},
     "output_type": "execute_result"
    }
   ],
   "source": [
    "#Call API\n",
    "data = yf.download(tickers = \"GOOGL\",\n",
    "                  start = start_date,\n",
    "                  end = end_date)\n",
    "data.shape"
   ]
  },
  {
   "cell_type": "code",
   "execution_count": 12,
   "id": "8929aa56",
   "metadata": {},
   "outputs": [
    {
     "data": {
      "text/html": [
       "<div>\n",
       "<style scoped>\n",
       "    .dataframe tbody tr th:only-of-type {\n",
       "        vertical-align: middle;\n",
       "    }\n",
       "\n",
       "    .dataframe tbody tr th {\n",
       "        vertical-align: top;\n",
       "    }\n",
       "\n",
       "    .dataframe thead th {\n",
       "        text-align: right;\n",
       "    }\n",
       "</style>\n",
       "<table border=\"1\" class=\"dataframe\">\n",
       "  <thead>\n",
       "    <tr style=\"text-align: right;\">\n",
       "      <th></th>\n",
       "      <th>Open</th>\n",
       "      <th>High</th>\n",
       "      <th>Low</th>\n",
       "      <th>Close</th>\n",
       "      <th>Adj Close</th>\n",
       "      <th>Volume</th>\n",
       "    </tr>\n",
       "    <tr>\n",
       "      <th>Date</th>\n",
       "      <th></th>\n",
       "      <th></th>\n",
       "      <th></th>\n",
       "      <th></th>\n",
       "      <th></th>\n",
       "      <th></th>\n",
       "    </tr>\n",
       "  </thead>\n",
       "  <tbody>\n",
       "    <tr>\n",
       "      <th>2018-03-29 00:00:00-04:00</th>\n",
       "      <td>50.560501</td>\n",
       "      <td>52.402500</td>\n",
       "      <td>50.202000</td>\n",
       "      <td>51.856998</td>\n",
       "      <td>51.856998</td>\n",
       "      <td>69338000</td>\n",
       "    </tr>\n",
       "    <tr>\n",
       "      <th>2018-04-02 00:00:00-04:00</th>\n",
       "      <td>51.381001</td>\n",
       "      <td>51.976501</td>\n",
       "      <td>49.712502</td>\n",
       "      <td>50.631500</td>\n",
       "      <td>50.631500</td>\n",
       "      <td>65068000</td>\n",
       "    </tr>\n",
       "    <tr>\n",
       "      <th>2018-04-03 00:00:00-04:00</th>\n",
       "      <td>50.807499</td>\n",
       "      <td>51.250000</td>\n",
       "      <td>49.862499</td>\n",
       "      <td>50.933998</td>\n",
       "      <td>50.933998</td>\n",
       "      <td>51322000</td>\n",
       "    </tr>\n",
       "    <tr>\n",
       "      <th>2018-04-04 00:00:00-04:00</th>\n",
       "      <td>49.911499</td>\n",
       "      <td>51.637001</td>\n",
       "      <td>49.825500</td>\n",
       "      <td>51.485500</td>\n",
       "      <td>51.485500</td>\n",
       "      <td>50724000</td>\n",
       "    </tr>\n",
       "    <tr>\n",
       "      <th>2018-04-05 00:00:00-04:00</th>\n",
       "      <td>52.319500</td>\n",
       "      <td>52.335499</td>\n",
       "      <td>51.200001</td>\n",
       "      <td>51.632000</td>\n",
       "      <td>51.632000</td>\n",
       "      <td>35836000</td>\n",
       "    </tr>\n",
       "  </tbody>\n",
       "</table>\n",
       "</div>"
      ],
      "text/plain": [
       "                                Open       High        Low      Close  \\\n",
       "Date                                                                    \n",
       "2018-03-29 00:00:00-04:00  50.560501  52.402500  50.202000  51.856998   \n",
       "2018-04-02 00:00:00-04:00  51.381001  51.976501  49.712502  50.631500   \n",
       "2018-04-03 00:00:00-04:00  50.807499  51.250000  49.862499  50.933998   \n",
       "2018-04-04 00:00:00-04:00  49.911499  51.637001  49.825500  51.485500   \n",
       "2018-04-05 00:00:00-04:00  52.319500  52.335499  51.200001  51.632000   \n",
       "\n",
       "                           Adj Close    Volume  \n",
       "Date                                            \n",
       "2018-03-29 00:00:00-04:00  51.856998  69338000  \n",
       "2018-04-02 00:00:00-04:00  50.631500  65068000  \n",
       "2018-04-03 00:00:00-04:00  50.933998  51322000  \n",
       "2018-04-04 00:00:00-04:00  51.485500  50724000  \n",
       "2018-04-05 00:00:00-04:00  51.632000  35836000  "
      ]
     },
     "execution_count": 12,
     "metadata": {},
     "output_type": "execute_result"
    }
   ],
   "source": [
    "data.head()"
   ]
  },
  {
   "cell_type": "code",
   "execution_count": 13,
   "id": "cd87df9b",
   "metadata": {},
   "outputs": [
    {
     "data": {
      "text/html": [
       "<div>\n",
       "<style scoped>\n",
       "    .dataframe tbody tr th:only-of-type {\n",
       "        vertical-align: middle;\n",
       "    }\n",
       "\n",
       "    .dataframe tbody tr th {\n",
       "        vertical-align: top;\n",
       "    }\n",
       "\n",
       "    .dataframe thead th {\n",
       "        text-align: right;\n",
       "    }\n",
       "</style>\n",
       "<table border=\"1\" class=\"dataframe\">\n",
       "  <thead>\n",
       "    <tr style=\"text-align: right;\">\n",
       "      <th></th>\n",
       "      <th>Date</th>\n",
       "      <th>Open</th>\n",
       "      <th>High</th>\n",
       "      <th>Low</th>\n",
       "      <th>Close</th>\n",
       "      <th>Adj Close</th>\n",
       "      <th>Volume</th>\n",
       "    </tr>\n",
       "  </thead>\n",
       "  <tbody>\n",
       "    <tr>\n",
       "      <th>0</th>\n",
       "      <td>2018-03-29 00:00:00-04:00</td>\n",
       "      <td>50.560501</td>\n",
       "      <td>52.402500</td>\n",
       "      <td>50.202000</td>\n",
       "      <td>51.856998</td>\n",
       "      <td>51.856998</td>\n",
       "      <td>69338000</td>\n",
       "    </tr>\n",
       "    <tr>\n",
       "      <th>1</th>\n",
       "      <td>2018-04-02 00:00:00-04:00</td>\n",
       "      <td>51.381001</td>\n",
       "      <td>51.976501</td>\n",
       "      <td>49.712502</td>\n",
       "      <td>50.631500</td>\n",
       "      <td>50.631500</td>\n",
       "      <td>65068000</td>\n",
       "    </tr>\n",
       "    <tr>\n",
       "      <th>2</th>\n",
       "      <td>2018-04-03 00:00:00-04:00</td>\n",
       "      <td>50.807499</td>\n",
       "      <td>51.250000</td>\n",
       "      <td>49.862499</td>\n",
       "      <td>50.933998</td>\n",
       "      <td>50.933998</td>\n",
       "      <td>51322000</td>\n",
       "    </tr>\n",
       "    <tr>\n",
       "      <th>3</th>\n",
       "      <td>2018-04-04 00:00:00-04:00</td>\n",
       "      <td>49.911499</td>\n",
       "      <td>51.637001</td>\n",
       "      <td>49.825500</td>\n",
       "      <td>51.485500</td>\n",
       "      <td>51.485500</td>\n",
       "      <td>50724000</td>\n",
       "    </tr>\n",
       "    <tr>\n",
       "      <th>4</th>\n",
       "      <td>2018-04-05 00:00:00-04:00</td>\n",
       "      <td>52.319500</td>\n",
       "      <td>52.335499</td>\n",
       "      <td>51.200001</td>\n",
       "      <td>51.632000</td>\n",
       "      <td>51.632000</td>\n",
       "      <td>35836000</td>\n",
       "    </tr>\n",
       "    <tr>\n",
       "      <th>...</th>\n",
       "      <td>...</td>\n",
       "      <td>...</td>\n",
       "      <td>...</td>\n",
       "      <td>...</td>\n",
       "      <td>...</td>\n",
       "      <td>...</td>\n",
       "      <td>...</td>\n",
       "    </tr>\n",
       "    <tr>\n",
       "      <th>1235</th>\n",
       "      <td>2023-02-24 00:00:00-05:00</td>\n",
       "      <td>89.440002</td>\n",
       "      <td>89.889999</td>\n",
       "      <td>88.580002</td>\n",
       "      <td>89.129997</td>\n",
       "      <td>89.129997</td>\n",
       "      <td>36585100</td>\n",
       "    </tr>\n",
       "    <tr>\n",
       "      <th>1236</th>\n",
       "      <td>2023-02-27 00:00:00-05:00</td>\n",
       "      <td>89.870003</td>\n",
       "      <td>90.160004</td>\n",
       "      <td>89.339996</td>\n",
       "      <td>89.870003</td>\n",
       "      <td>89.870003</td>\n",
       "      <td>27502300</td>\n",
       "    </tr>\n",
       "    <tr>\n",
       "      <th>1237</th>\n",
       "      <td>2023-02-28 00:00:00-05:00</td>\n",
       "      <td>89.330002</td>\n",
       "      <td>91.230003</td>\n",
       "      <td>89.320000</td>\n",
       "      <td>90.059998</td>\n",
       "      <td>90.059998</td>\n",
       "      <td>30142000</td>\n",
       "    </tr>\n",
       "    <tr>\n",
       "      <th>1238</th>\n",
       "      <td>2023-03-01 00:00:00-05:00</td>\n",
       "      <td>89.980003</td>\n",
       "      <td>91.029999</td>\n",
       "      <td>89.669998</td>\n",
       "      <td>90.360001</td>\n",
       "      <td>90.360001</td>\n",
       "      <td>31111200</td>\n",
       "    </tr>\n",
       "    <tr>\n",
       "      <th>1239</th>\n",
       "      <td>2023-03-02 00:00:00-05:00</td>\n",
       "      <td>89.660004</td>\n",
       "      <td>92.279999</td>\n",
       "      <td>89.589996</td>\n",
       "      <td>92.000000</td>\n",
       "      <td>92.000000</td>\n",
       "      <td>32204400</td>\n",
       "    </tr>\n",
       "  </tbody>\n",
       "</table>\n",
       "<p>1240 rows × 7 columns</p>\n",
       "</div>"
      ],
      "text/plain": [
       "                          Date       Open       High        Low      Close  \\\n",
       "0    2018-03-29 00:00:00-04:00  50.560501  52.402500  50.202000  51.856998   \n",
       "1    2018-04-02 00:00:00-04:00  51.381001  51.976501  49.712502  50.631500   \n",
       "2    2018-04-03 00:00:00-04:00  50.807499  51.250000  49.862499  50.933998   \n",
       "3    2018-04-04 00:00:00-04:00  49.911499  51.637001  49.825500  51.485500   \n",
       "4    2018-04-05 00:00:00-04:00  52.319500  52.335499  51.200001  51.632000   \n",
       "...                        ...        ...        ...        ...        ...   \n",
       "1235 2023-02-24 00:00:00-05:00  89.440002  89.889999  88.580002  89.129997   \n",
       "1236 2023-02-27 00:00:00-05:00  89.870003  90.160004  89.339996  89.870003   \n",
       "1237 2023-02-28 00:00:00-05:00  89.330002  91.230003  89.320000  90.059998   \n",
       "1238 2023-03-01 00:00:00-05:00  89.980003  91.029999  89.669998  90.360001   \n",
       "1239 2023-03-02 00:00:00-05:00  89.660004  92.279999  89.589996  92.000000   \n",
       "\n",
       "      Adj Close    Volume  \n",
       "0     51.856998  69338000  \n",
       "1     50.631500  65068000  \n",
       "2     50.933998  51322000  \n",
       "3     51.485500  50724000  \n",
       "4     51.632000  35836000  \n",
       "...         ...       ...  \n",
       "1235  89.129997  36585100  \n",
       "1236  89.870003  27502300  \n",
       "1237  90.059998  30142000  \n",
       "1238  90.360001  31111200  \n",
       "1239  92.000000  32204400  \n",
       "\n",
       "[1240 rows x 7 columns]"
      ]
     },
     "execution_count": 13,
     "metadata": {},
     "output_type": "execute_result"
    }
   ],
   "source": [
    "data.reset_index(inplace=True)\n",
    "data"
   ]
  },
  {
   "cell_type": "code",
   "execution_count": 14,
   "id": "e291a2cb",
   "metadata": {},
   "outputs": [
    {
     "data": {
      "text/plain": [
       "<AxesSubplot:xlabel='Date', ylabel='High'>"
      ]
     },
     "execution_count": 14,
     "metadata": {},
     "output_type": "execute_result"
    },
    {
     "data": {
      "image/png": "[encoded data removed]",
      "text/plain": [
       "<Figure size 432x288 with 1 Axes>"
      ]
     },
     "metadata": {},
     "output_type": "display_data"
    }
   ],
   "source": [
    "sns.lineplot(data=data,\n",
    "            x='Date',\n",
    "            y='High',\n",
    "            color='blue')"
   ]
  },
  {
   "cell_type": "code",
   "execution_count": 15,
   "id": "b06a55a6",
   "metadata": {},
   "outputs": [
    {
     "data": {
      "image/png": "[encoded data removed]",
      "text/plain": [
       "<Figure size 864x288 with 1 Axes>"
      ]
     },
     "metadata": {},
     "output_type": "display_data"
    }
   ],
   "source": [
    "plt.figure(figsize=(12,4))\n",
    "sns.set_style('ticks')\n",
    "sns.lineplot(data=data,\n",
    "            x='Date',\n",
    "            y='High',\n",
    "            color='firebrick')\n",
    "\n",
    "## First covid reported on December'19 in Wuhan\n",
    "plt.axvspan(xmin=pd.to_datetime('2019-12-1'),\n",
    "           xmax= pd.to_datetime('2022'),\n",
    "           color=\"dimgray\",\n",
    "           alpha=0.25)\n",
    "plt.text(x=pd.to_datetime('2019-12-1'),\n",
    "        y=data[\"High\"].max(),\n",
    "        size='small',\n",
    "        s= \"covid19 period highlighted\")\n",
    "\n",
    "##First covid case in US on 30 Jan'20\n",
    "plt.vlines(x=pd.to_datetime('2020-01-30'),\n",
    "          color='red',\n",
    "          ymin=data['High'].min(),\n",
    "          ymax=data['High'].max()-5)\n",
    "plt.annotate(text='The day first case reported in US',\n",
    "            xy=(pd.to_datetime('2020-1-30'),\n",
    "               data['High'].mean()),\n",
    "            xytext=(pd.to_datetime('2018-1-1'),100),\n",
    "            size='small',\n",
    "            arrowprops=dict(facecolor='black',shrink=0.05))\n",
    "plt.title(\"Google Stock Prices from {0} to {1}\".format(start_date,end_date),\n",
    "         c='blue',\n",
    "         alpha=0.8,\n",
    "         size='x-large');\n",
    "sns.despine()\n",
    "plt.ylabel(\"Stock Price\");\n"
   ]
  },
  {
   "cell_type": "code",
   "execution_count": 16,
   "id": "3a994aa9",
   "metadata": {},
   "outputs": [
    {
     "ename": "SyntaxError",
     "evalue": "invalid syntax (Temp/ipykernel_400/2139929949.py, line 4)",
     "output_type": "error",
     "traceback": [
      "\u001b[1;36m  File \u001b[1;32m\"C:\\Users\\Nii\\AppData\\Local\\Temp/ipykernel_400/2139929949.py\"\u001b[1;36m, line \u001b[1;32m4\u001b[0m\n\u001b[1;33m    pip install --upgrade mplfinance\u001b[0m\n\u001b[1;37m        ^\u001b[0m\n\u001b[1;31mSyntaxError\u001b[0m\u001b[1;31m:\u001b[0m invalid syntax\n"
     ]
    }
   ],
   "source": [
    "import pip\n",
    "\n",
    "\n",
    "pip install --upgrade mplfinance"
   ]
  },
  {
   "cell_type": "code",
   "execution_count": 17,
   "id": "e883cfc7",
   "metadata": {},
   "outputs": [],
   "source": [
    "import mplfinance"
   ]
  },
  {
   "cell_type": "code",
   "execution_count": null,
   "id": "4d542b6e",
   "metadata": {},
   "outputs": [],
   "source": [
    "#to plot candlestick chart\n",
    "new_data = data.set_index(keys='Date')\n",
    "new_data"
   ]
  },
  {
   "cell_type": "code",
   "execution_count": 18,
   "id": "7e6fe6f0",
   "metadata": {},
   "outputs": [
    {
     "ename": "NameError",
     "evalue": "name 'new_data' is not defined",
     "output_type": "error",
     "traceback": [
      "\u001b[1;31m---------------------------------------------------------------------------\u001b[0m",
      "\u001b[1;31mNameError\u001b[0m                                 Traceback (most recent call last)",
      "\u001b[1;32m~\\AppData\\Local\\Temp/ipykernel_400/2697475430.py\u001b[0m in \u001b[0;36m<module>\u001b[1;34m\u001b[0m\n\u001b[1;32m----> 1\u001b[1;33m mplfinance.plot(new_data.loc[pd.to_datetime('2020-2-15'):pd.to_datetime('2020-6-15'), :],\n\u001b[0m\u001b[0;32m      2\u001b[0m                \u001b[0mtype\u001b[0m\u001b[1;33m=\u001b[0m\u001b[1;34m'candle'\u001b[0m\u001b[1;33m,\u001b[0m\u001b[1;33m\u001b[0m\u001b[1;33m\u001b[0m\u001b[0m\n\u001b[0;32m      3\u001b[0m                \u001b[0mstyle\u001b[0m\u001b[1;33m=\u001b[0m\u001b[1;34m'charles'\u001b[0m\u001b[1;33m,\u001b[0m\u001b[1;33m\u001b[0m\u001b[1;33m\u001b[0m\u001b[0m\n\u001b[0;32m      4\u001b[0m                \u001b[0mtitle\u001b[0m\u001b[1;33m=\u001b[0m\u001b[1;34m\"Candlestick Chart of Google Stocks from 15Jan'20 to 15June'20\"\u001b[0m\u001b[1;33m,\u001b[0m\u001b[1;33m\u001b[0m\u001b[1;33m\u001b[0m\u001b[0m\n\u001b[0;32m      5\u001b[0m                ylabel='Price($)')\n",
      "\u001b[1;31mNameError\u001b[0m: name 'new_data' is not defined"
     ]
    }
   ],
   "source": [
    "mplfinance.plot(new_data.loc[pd.to_datetime('2020-2-15'):pd.to_datetime('2020-6-15'), :],\n",
    "               type='candle',\n",
    "               style='charles',\n",
    "               title=\"Candlestick Chart of Google Stocks from 15Jan'20 to 15June'20\",\n",
    "               ylabel='Price($)')"
   ]
  },
  {
   "cell_type": "code",
   "execution_count": null,
   "id": "3eb10d3b",
   "metadata": {},
   "outputs": [],
   "source": [
    "print(\"Timezone-naive datetime object/timestamp: \",end=\"\")\n",
    "pd.to_datetime(\"2020-1-1\")"
   ]
  },
  {
   "cell_type": "code",
   "execution_count": null,
   "id": "b7d42702",
   "metadata": {},
   "outputs": [],
   "source": [
    "print(\"/Timezone-aware datetime object/timestamp: \",end=\"\")\n",
    "pd.to_datetime(\"2020-1-1\").tz_localize(tz='Asia/Kolkata')"
   ]
  },
  {
   "cell_type": "code",
   "execution_count": null,
   "id": "2f88462b",
   "metadata": {},
   "outputs": [],
   "source": [
    "mplfinance.plot(new_data.loc[pd.to_datetime(\"2020-2-15\").tz_localize(tz='Asia/Kolkata'):\n",
    "                            pd.to_datetime(\"2020-6-15\").tz_localize(tz='Asia/Kolkata'), :],\n",
    "               type='candle',\n",
    "               style='charles',\n",
    "               title=\"Candlestick Chart of Google Stocks from 15Jan'20 to 15June'20\",\n",
    "               ylabel='Price($)')"
   ]
  },
  {
   "cell_type": "code",
   "execution_count": null,
   "id": "fd15c993",
   "metadata": {},
   "outputs": [],
   "source": []
  }
 ],
 "metadata": {
  "kernelspec": {
   "display_name": "base",
   "language": "python",
   "name": "python3"
  },
  "language_info": {
   "codemirror_mode": {
    "name": "ipython",
    "version": 3
   },
   "file_extension": ".py",
   "mimetype": "text/x-python",
   "name": "python",
   "nbconvert_exporter": "python",
   "pygments_lexer": "ipython3",
   "version": "3.9.7"
  },
  "vscode": {
   "interpreter": {
    "hash": "754349281282b39b72de50dda703632bca9df76bb7a60c336543479605202312"
   }
  }
 },
 "nbformat": 4,
 "nbformat_minor": 5
}
